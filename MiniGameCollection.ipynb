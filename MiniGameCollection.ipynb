{
  "nbformat": 4,
  "nbformat_minor": 0,
  "metadata": {
    "colab": {
      "provenance": []
    },
    "kernelspec": {
      "name": "python3",
      "display_name": "Python 3"
    },
    "language_info": {
      "name": "python"
    }
  },
  "cells": [
    {
      "cell_type": "markdown",
      "source": [
        "# 1. 御神籤\n",
        "実行するだけでおみくじが引けます。<br>\n",
        "分配は浅草寺の割合を参照しており、凶30%、大吉17%、吉35%、半吉5%、小吉4%、末小吉3%、末吉6%です。"
      ],
      "metadata": {
        "id": "wGK_HE2n79Ti"
      }
    },
    {
      "cell_type": "code",
      "execution_count": 36,
      "metadata": {
        "colab": {
          "base_uri": "https://localhost:8080/"
        },
        "id": "NjL7NCzB7hPZ",
        "outputId": "58a9e1e7-4a83-4300-e0a0-d10c6d1da1e2"
      },
      "outputs": [
        {
          "output_type": "stream",
          "name": "stdout",
          "text": [
            "あなたの運勢は「大吉」です\n"
          ]
        }
      ],
      "source": [
        "import numpy as np\n",
        "\n",
        "# 御神籤の結果と確率のリスト\n",
        "omikuji_results = [\n",
        "  # (閾値, 結果)\n",
        "    (0.17, \"大吉\"),\n",
        "    (0.52, \"吉\"),\n",
        "    (0.57, \"半吉\"),\n",
        "    (0.61, \"小吉\"),\n",
        "    (0.64, \"末小吉\"),\n",
        "    (0.70, \"末吉\"),\n",
        "    (1.00, \"凶\")\n",
        "]\n",
        "\n",
        "# 御神籤を引く処理\n",
        "def omikuji_draw():\n",
        "    kuji = np.random.rand()\n",
        "    # print(f\"{kuji}\"\") #デバッグ用\n",
        "\n",
        "    for threshold, result in omikuji_results:\n",
        "        if kuji <= threshold:\n",
        "            print(f\"あなたの運勢は「{result}」です\")\n",
        "            return\n",
        "\n",
        "omikuji_draw()"
      ]
    },
    {
      "cell_type": "markdown",
      "source": [
        "# 2. サイコロシミュレーター\n",
        "サイコロを好きな回数だけ振って、結果と統計情報を表示します。"
      ],
      "metadata": {
        "id": "XAARwZxZaZcn"
      }
    },
    {
      "cell_type": "code",
      "source": [
        "import numpy as np\n",
        "\n",
        "def dice_simulater():\n",
        "  print(\"--- サイコロシミュレータ ー---\")\n",
        "\n",
        "  while True:\n",
        "\n",
        "    # 不具合対策\n",
        "    try:\n",
        "      num_times = int(input(\"サイコロを振る回数を入力してください。（プログラムを終了: 0）\"))\n",
        "      if num_times == 0:\n",
        "        print(\"プログラムを終了します。\")\n",
        "        break\n",
        "      if num_times < 1:\n",
        "        print(\"1以上の数を入力してください\")\n",
        "        continue\n",
        "\n",
        "        # サイコロの出目生成と結果表示\n",
        "      times = np.random.randint(1, 7, num_times)\n",
        "      print(f\"{num_times}回: {times}\")\n",
        "      print(f\"合計: {np.sum(times)}\")\n",
        "      print(f\"平均: {np.mean(times)}\")\n",
        "      print(f\"中央値: {np.median(times)}\")\n",
        "      print(f\"標準偏差: {np.std(times)}\")\n",
        "      print(f\"分散: {np.var(times)}\")\n",
        "      print(f\"最大値,最小値: {np.max(times)},{np.min(times)}\")\n",
        "      print(f\"相関係数行列: {np.unique(times)}\")\n",
        "      print(f\"-\" * 30)\n",
        "\n",
        "    except ValueError:\n",
        "      print(\"無効な入力です。数字を入力してください。\")\n",
        "\n",
        "dice_simulater()"
      ],
      "metadata": {
        "colab": {
          "base_uri": "https://localhost:8080/"
        },
        "id": "KG-hJBr4X_WZ",
        "outputId": "71da714c-d62a-4dbe-e4d5-2e97379cd569"
      },
      "execution_count": null,
      "outputs": [
        {
          "output_type": "stream",
          "name": "stdout",
          "text": [
            "--- サイコロシミュレータ ー---\n",
            "1サイコロを振る回数を入力してください。（プログラムを終了:0）10\n",
            "10回: [5 3 3 5 3 2 4 1 1 6]\n",
            "合計: 33\n",
            "平均: 3.3\n",
            "中央値: 3.0\n",
            "標準偏差: 1.6155494421403513\n",
            "分散: 2.6100000000000003\n",
            "最大値,最小値: 6,1\n",
            "相関係数行列: [1 2 3 4 5 6]\n",
            "------------------------------\n",
            "1サイコロを振る回数を入力してください。（プログラムを終了:0）0\n",
            "プログラムを終了します。\n"
          ]
        }
      ]
    },
    {
      "cell_type": "markdown",
      "source": [
        "# 3.コイン投げシミュレーター\n",
        "コイン投げをシミュレートし、表と裏の回数をカウントします。"
      ],
      "metadata": {
        "id": "Y9--dnJtjCBM"
      }
    },
    {
      "cell_type": "code",
      "source": [
        "import numpy as np\n",
        "\n",
        "def coin_flip_simulater():\n",
        "  print(\"---- コイン投げシミュレーター ---\")\n",
        "  while True:\n",
        "\n",
        "    # 不具合対策\n",
        "    try:\n",
        "      num_flips = int(input(\"コインを投げる回数を入力してください。（プログラムを終了: 0）\"))\n",
        "      if num_flips == 0:\n",
        "        print(\"プログラムを終了します。\")\n",
        "        break\n",
        "      if num_flips < 1:\n",
        "        print(\"1以上の数を入力してください。\")\n",
        "        continue\n",
        "\n",
        "        # コインの表裏生成と回数計算\n",
        "      results = np.random.choice([\"表\", \"裏\"], size = num_flips, p = [0.5, 0.5])\n",
        "      flont_count = np.sum(results == \"表\")\n",
        "      back_count = np.sum(results == \"裏\")\n",
        "\n",
        "      flont_ratio = flont_count / num_flips\n",
        "      back_ratio = back_count / num_flips\n",
        "\n",
        "      print(f\" /n{num_flips}回投げて...\")\n",
        "      print(f\"表: {flont_count}回\")\n",
        "      print(f\"裏: {back_count}回\")\n",
        "      print(f\"表の割合: {flont_ratio:.2%}\")\n",
        "      print(f\"裏の割合: {back_ratio:.2%}\")\n",
        "      print(\"_\" * 30)\n",
        "\n",
        "    except ValueError:\n",
        "      print(\"無効な入力です。数字を入力してください。\")\n",
        "\n",
        "coin_flip_simulater()"
      ],
      "metadata": {
        "colab": {
          "base_uri": "https://localhost:8080/"
        },
        "id": "blpAcH0vi9rG",
        "outputId": "db5086bc-d6ca-4661-e297-a753aff9d012"
      },
      "execution_count": null,
      "outputs": [
        {
          "output_type": "stream",
          "name": "stdout",
          "text": [
            "---- コイン投げシミュレーター ---\n",
            "コインを投げる回数を入力してください。（プログラムを終了: 0）100\n",
            " /n100回投げて...\n",
            "表: 46回\n",
            "裏: 54回\n",
            "表の割合: 46.00%\n",
            "裏の割合: 54.00%\n",
            "______________________________\n",
            "コインを投げる回数を入力してください。（プログラムを終了: 0）10000\n",
            " /n10000回投げて...\n",
            "表: 5009回\n",
            "裏: 4991回\n",
            "表の割合: 50.09%\n",
            "裏の割合: 49.91%\n",
            "______________________________\n",
            "コインを投げる回数を入力してください。（プログラムを終了: 0）100000\n",
            " /n100000回投げて...\n",
            "表: 50153回\n",
            "裏: 49847回\n",
            "表の割合: 50.15%\n",
            "裏の割合: 49.85%\n",
            "______________________________\n",
            "コインを投げる回数を入力してください。（プログラムを終了: 0）0\n",
            "プログラムを終了します。\n"
          ]
        }
      ]
    },
    {
      "cell_type": "markdown",
      "source": [
        "# 4.テンソル神経衰弱\n",
        "不規則に生成されたテンソルを使った神経衰弱のようなゲームです。<br>\n",
        "### ルール\n",
        "1. ランダムなテンソルAとBが表示されます。\n",
        "2. もしAとBが全く同じなら「y」を、違うなら「n」を入力してください。"
      ],
      "metadata": {
        "id": "VqMEi2QZqHhl"
      }
    },
    {
      "cell_type": "code",
      "source": [
        "import torch\n",
        "import time\n",
        "import numpy as np\n",
        "\n",
        "def tensor_memory_game():\n",
        "  print(\"--- テンソル神経衰弱 ---\")\n",
        "\n",
        "  while True:\n",
        "    # ランダムな2×2テンソルを生成\n",
        "    tensor_A = torch.rand(2,2).round()\n",
        "\n",
        "    if np.random.rand() < 0.3:  #30%の確率でAと同じテンソルにする\n",
        "      tensor_B = tensor_A .clone()\n",
        "\n",
        "    else:\n",
        "      tensor_B = torch.rand(2,2).round()\n",
        "\n",
        "    print(\"\\nテンソルA:\\n\", tensor_A)\n",
        "    print(\"\\nテンソルB:\\n\", tensor_B)\n",
        "\n",
        "    user_judgment = input(\"\\nテンソルAとBは同じですか？（y/nで回答, qで終了:）\").lower()\n",
        "    are_equal = torch.equal(tensor_A, tensor_B)\n",
        "\n",
        "    if user_judgment == \"q\":\n",
        "      print(\"プログラムを終了します\")\n",
        "      break\n",
        "\n",
        "    if (user_judgment == \"y\" and are_equal) or (user_judgment == \"n\" and not are_equal):\n",
        "      print(\"正解です！\")\n",
        "\n",
        "    else:\n",
        "      print(f\"不正解です...。正解は{'Yes'if are_equal else'No'}です\")\n",
        "\n",
        "    time.sleep(1)\n",
        "    print(\"\\n次の問題\")\n",
        "\n",
        "\n",
        "\n",
        "tensor_memory_game()"
      ],
      "metadata": {
        "colab": {
          "base_uri": "https://localhost:8080/"
        },
        "id": "wLdbq0g0ggaO",
        "outputId": "fecfc509-066e-4a75-88b2-24e4c786c92f"
      },
      "execution_count": 14,
      "outputs": [
        {
          "output_type": "stream",
          "name": "stdout",
          "text": [
            "--- テンソル神経衰弱 ---\n",
            "\n",
            "テンソルA:\n",
            " tensor([[0., 0.],\n",
            "        [0., 1.]])\n",
            "\n",
            "テンソルB:\n",
            " tensor([[1., 0.],\n",
            "        [1., 0.]])\n",
            "\n",
            "テンソルAとBは同じですか？（y/nで回答, qで終了:）y\n",
            "不正解です...。正解はNoです\n",
            "\n",
            "次の問題\n",
            "\n",
            "テンソルA:\n",
            " tensor([[0., 1.],\n",
            "        [0., 0.]])\n",
            "\n",
            "テンソルB:\n",
            " tensor([[1., 0.],\n",
            "        [1., 0.]])\n",
            "\n",
            "テンソルAとBは同じですか？（y/nで回答, qで終了:）n\n",
            "正解です！\n",
            "\n",
            "次の問題\n",
            "\n",
            "テンソルA:\n",
            " tensor([[0., 1.],\n",
            "        [0., 1.]])\n",
            "\n",
            "テンソルB:\n",
            " tensor([[0., 1.],\n",
            "        [0., 0.]])\n",
            "\n",
            "テンソルAとBは同じですか？（y/nで回答, qで終了:）q\n",
            "プログラムを終了します\n"
          ]
        }
      ]
    },
    {
      "cell_type": "markdown",
      "source": [
        "# 5. ラッキーナンバー占い"
      ],
      "metadata": {
        "id": "pkdpIIpNuaLB"
      }
    },
    {
      "cell_type": "code",
      "source": [
        "import torch\n",
        "\n",
        "# 素数判定\n",
        "def is_prime(n):\n",
        "  if n < 2:\n",
        "    return False\n",
        "  if n == 2:\n",
        "    return True\n",
        "  if n % 2 == 0:\n",
        "    return False\n",
        "\n",
        "  i = 3\n",
        "  while i * i <= n:\n",
        "    if n % i == 0:\n",
        "      return False\n",
        "    i +=2\n",
        "  return True\n",
        "\n",
        "#ラッキーナンバー占い\n",
        "def lucky_number_fortune():\n",
        "  print(\"--- 今日のラッキーナンバー占い ---\")\n",
        "\n",
        "  # ラッキーナンバー生成\n",
        "  lucky_number = torch.randint(1, 101, (1,)).item()\n",
        "  print(f\"\\nあなたの今日のラッキーナンバーは{lucky_number}です！\")\n",
        "\n",
        "  # 数字から運勢を説明\n",
        "  if lucky_number % 2 == 0:\n",
        "    print(\"偶数には、常に2で割り切れるという安心感があります。きっと安全で調和の取れた一日になるでしょう。\")\n",
        "\n",
        "  else:\n",
        "    print(\"奇数には、素数である可能性が秘められています。新たな道を切り開けるかも知れない、そんな一日になるでしょう。\")\n",
        "    if is_prime(lucky_number):\n",
        "      print(\"なんと、あなたのラッキーナンバーは素数です！どんな自然数も、素数の積で表すことができます。きっと神秘的な一日になるでしょう。\")\n",
        "\n",
        "    if lucky_number == 7:\n",
        "      print(\"「7」という数字は、多くの人から幸運の数字と信じられています。きっと最高の一日になるでしょう。\")\n",
        "    if lucky_number == 18:\n",
        "      print(\"「18」という数字は、十八番という概念にも組み込まれています。自分の得意とする芸や技が、より輝く一日になるでしょう。\")\n",
        "\n",
        "lucky_number_fortune()"
      ],
      "metadata": {
        "colab": {
          "base_uri": "https://localhost:8080/"
        },
        "id": "RoYXc2-UrBpR",
        "outputId": "26131e99-c079-41a8-f109-12cd408af58d"
      },
      "execution_count": 91,
      "outputs": [
        {
          "output_type": "stream",
          "name": "stdout",
          "text": [
            "--- 今日のラッキーナンバー占い ---\n",
            "\n",
            "あなたの今日のラッキーナンバーは44です！\n",
            "偶数には、常に2で割り切れるという安心感があります。きっと安全で調和の取れた一日になるでしょう。\n"
          ]
        }
      ]
    }
  ]
}